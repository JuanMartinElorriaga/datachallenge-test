{
 "cells": [
  {
   "cell_type": "code",
   "execution_count": 1,
   "metadata": {},
   "outputs": [
    {
     "data": {
      "text/plain": [
       "<lxml.etree._ElementTree at 0x249bd5f45c0>"
      ]
     },
     "execution_count": 1,
     "metadata": {},
     "output_type": "execute_result"
    }
   ],
   "source": [
    "from lxml import etree\n",
    "# Parse the Q9Y261 XML file\n",
    "xml_file = open('Q9Y261.xml', 'rb')\n",
    "tree     = etree.parse(xml_file)\n",
    "tree"
   ]
  },
  {
   "cell_type": "code",
   "execution_count": 2,
   "metadata": {},
   "outputs": [],
   "source": [
    "# Define the namespace prefixes and URIs\n",
    "namespace = {'uniprot': 'http://uniprot.org/uniprot'}"
   ]
  },
  {
   "cell_type": "code",
   "execution_count": 3,
   "metadata": {},
   "outputs": [],
   "source": [
    "accessions   = tree.xpath('//uniprot:accession/text()', namespaces=namespace)\n",
    "fullname     = tree.xpath('//uniprot:fullName/text()', namespaces=namespace)\n",
    "shortname    = tree.xpath('//uniprot:shortName/text()', namespaces=namespace)\n",
    "name         = tree.xpath('//uniprot:name/text()', namespaces=namespace)\n",
    "gene         = tree.xpath('//uniprot:protein/gene/text()', namespaces=namespace)\n",
    "#fullname    = tree.xpath('//uniprot:fullName/text()', namespaces=namespace)\n",
    "#fullname    = tree.xpath('//uniprot:fullName/text()', namespaces=namespace)\n",
    "#fullname    = tree.xpath('//uniprot:fullName/text()', namespaces=namespace)\n"
   ]
  },
  {
   "cell_type": "code",
   "execution_count": 7,
   "metadata": {},
   "outputs": [
    {
     "data": {
      "text/plain": [
       "['FOXA2_HUMAN', 'FOXA2', 'HNF3B', 'TCF3B', 'Homo sapiens', 'Human', '1', '2']"
      ]
     },
     "execution_count": 7,
     "metadata": {},
     "output_type": "execute_result"
    }
   ],
   "source": [
    "name"
   ]
  },
  {
   "cell_type": "code",
   "execution_count": null,
   "metadata": {},
   "outputs": [],
   "source": []
  },
  {
   "cell_type": "code",
   "execution_count": null,
   "metadata": {},
   "outputs": [],
   "source": []
  },
  {
   "cell_type": "code",
   "execution_count": null,
   "metadata": {},
   "outputs": [],
   "source": []
  },
  {
   "cell_type": "code",
   "execution_count": null,
   "metadata": {},
   "outputs": [],
   "source": []
  },
  {
   "cell_type": "code",
   "execution_count": null,
   "metadata": {},
   "outputs": [],
   "source": []
  },
  {
   "cell_type": "code",
   "execution_count": null,
   "metadata": {},
   "outputs": [],
   "source": []
  },
  {
   "cell_type": "code",
   "execution_count": 9,
   "metadata": {},
   "outputs": [],
   "source": [
    "root  = tree.getroot()\n",
    "entry = root.find('{http://uniprot.org/uniprot}entry')"
   ]
  },
  {
   "cell_type": "code",
   "execution_count": null,
   "metadata": {},
   "outputs": [],
   "source": [
    "protein = entry.findall('.//{http://uniprot.org/uniprot}protein')[0]"
   ]
  },
  {
   "cell_type": "code",
   "execution_count": null,
   "metadata": {},
   "outputs": [],
   "source": []
  },
  {
   "cell_type": "code",
   "execution_count": null,
   "metadata": {},
   "outputs": [],
   "source": []
  },
  {
   "cell_type": "code",
   "execution_count": 11,
   "metadata": {},
   "outputs": [],
   "source": [
    "# Open the XML file\n",
    "with open('Q9Y261.xml', 'rb') as f:\n",
    "    xml = f.read()\n",
    "\n",
    "# Parse the XML using lxml\n",
    "root = etree.fromstring(xml)\n",
    "\n",
    "# Iterate over the entry elements and extract the desired information\n",
    "for entry in root.findall('.//entry'):\n",
    "    protein   = entry.find('protein')\n",
    "    gene      = entry.find('gene')\n",
    "    organism  = entry.find('organism')\n",
    "    reference = entry.find('reference')\n",
    "    \n",
    "    # Print the extracted information\n",
    "    print('Protein:', protein.text)\n",
    "    print('Gene:', gene.attrib['name'])\n",
    "    print('Organism:', organism.find('name').text)\n",
    "    print('Reference:', reference.attrib['key'])"
   ]
  },
  {
   "cell_type": "code",
   "execution_count": 12,
   "metadata": {},
   "outputs": [
    {
     "data": {
      "text/plain": [
       "[]"
      ]
     },
     "execution_count": 12,
     "metadata": {},
     "output_type": "execute_result"
    }
   ],
   "source": [
    "[entry.find('protein') for entry in root.findall('.//entry')]"
   ]
  },
  {
   "cell_type": "code",
   "execution_count": null,
   "metadata": {},
   "outputs": [],
   "source": []
  },
  {
   "cell_type": "code",
   "execution_count": null,
   "metadata": {},
   "outputs": [],
   "source": []
  },
  {
   "cell_type": "code",
   "execution_count": null,
   "metadata": {},
   "outputs": [],
   "source": []
  },
  {
   "cell_type": "code",
   "execution_count": null,
   "metadata": {},
   "outputs": [],
   "source": []
  },
  {
   "cell_type": "code",
   "execution_count": null,
   "metadata": {},
   "outputs": [],
   "source": []
  },
  {
   "cell_type": "code",
   "execution_count": null,
   "metadata": {},
   "outputs": [],
   "source": []
  },
  {
   "cell_type": "code",
   "execution_count": 17,
   "metadata": {},
   "outputs": [
    {
     "data": {
      "text/plain": [
       "<Element '{http://uniprot.org/uniprot}uniprot' at 0x00000249BEAB2A40>"
      ]
     },
     "execution_count": 17,
     "metadata": {},
     "output_type": "execute_result"
    }
   ],
   "source": [
    "import xml.etree.ElementTree as ET\n",
    "# Parse the XML file and get the root element\n",
    "tree = ET.parse('Q9Y261.xml')\n",
    "root = tree.getroot()\n",
    "root"
   ]
  },
  {
   "cell_type": "code",
   "execution_count": 16,
   "metadata": {},
   "outputs": [],
   "source": [
    "\n",
    "# Loop through each uniprot element and extract the specified elements\n",
    "for uniprot in root.findall('uniprot'):\n",
    "    entry     = uniprot.find('entry')\n",
    "    protein   = entry.find('protein').find('recommendedName').find('fullName').text\n",
    "    gene      = entry.find('gene').find('name').text\n",
    "    organism  = entry.find('organism').find('name').text\n",
    "    reference = entry.find('reference').find('citation').find('title').text\n",
    "    \n",
    "    # Print the extracted elements\n",
    "    print(f'Entry: {entry}')\n",
    "    print(f'Protein: {protein}')\n",
    "    print(f'Gene: {gene}')\n",
    "    print(f'Organism: {organism}')\n",
    "    print(f'Reference: {reference}\\n')"
   ]
  },
  {
   "cell_type": "code",
   "execution_count": null,
   "metadata": {},
   "outputs": [],
   "source": []
  },
  {
   "cell_type": "code",
   "execution_count": null,
   "metadata": {},
   "outputs": [],
   "source": []
  },
  {
   "cell_type": "code",
   "execution_count": null,
   "metadata": {},
   "outputs": [],
   "source": []
  },
  {
   "cell_type": "code",
   "execution_count": null,
   "metadata": {},
   "outputs": [],
   "source": []
  },
  {
   "cell_type": "code",
   "execution_count": null,
   "metadata": {},
   "outputs": [],
   "source": []
  },
  {
   "cell_type": "code",
   "execution_count": null,
   "metadata": {},
   "outputs": [],
   "source": []
  },
  {
   "cell_type": "code",
   "execution_count": 18,
   "metadata": {},
   "outputs": [],
   "source": []
  },
  {
   "cell_type": "markdown",
   "metadata": {},
   "source": [
    "## Using minidom"
   ]
  },
  {
   "cell_type": "code",
   "execution_count": 31,
   "metadata": {},
   "outputs": [
    {
     "name": "stdout",
     "output_type": "stream",
     "text": [
      "Protein: Hepatocyte nuclear factor 3-beta\n",
      "Gene: \n",
      "Organism: Homo sapiens\n",
      "Reference: 1\n"
     ]
    }
   ],
   "source": [
    "import xml.dom.minidom as minidom\n",
    "# Open the XML file\n",
    "with open('Q9Y261.xml', 'r') as f:\n",
    "    xml_str = f.read()\n",
    "# Parse the XML using minidom\n",
    "dom = minidom.parseString(xml_str)\n",
    "# Get the root element\n",
    "root = dom.documentElement\n",
    "\n",
    "# Iterate over the entry elements and extract the desired information\n",
    "entries = root.getElementsByTagName('entry')\n",
    "for entry in entries:\n",
    "    protein   = entry.getElementsByTagName('protein')[0]\n",
    "    gene      = entry.getElementsByTagName('gene')[0]\n",
    "    organism  = entry.getElementsByTagName('organism')[0]\n",
    "    reference = entry.getElementsByTagName('reference')[0]\n",
    "    \n",
    "    # Print the extracted information\n",
    "    print('Protein:', protein.getElementsByTagName('fullName')[0].firstChild.nodeValue)\n",
    "    print('Gene:', gene.getAttribute('name'))\n",
    "    print('Organism:', organism.getElementsByTagName('name')[0].firstChild.nodeValue)\n",
    "    print('Reference:', reference.getAttribute('key'))"
   ]
  },
  {
   "cell_type": "code",
   "execution_count": null,
   "metadata": {},
   "outputs": [],
   "source": [
    "### Add previous elements to graph data model"
   ]
  },
  {
   "cell_type": "code",
   "execution_count": null,
   "metadata": {},
   "outputs": [],
   "source": [
    "from py2neo import Graph, Node, Relationship\n",
    "import xml.dom.minidom as minidom\n",
    "\n",
    "# Connect to the Neo4j database\n",
    "graph = Graph('bolt://localhost:7687', auth=('username', 'password'))\n",
    "\n",
    "# Open the XML file\n",
    "with open('Q9Y261.xml', 'r') as f:\n",
    "    xml_str = f.read()\n",
    "# Parse the XML using minidom\n",
    "dom = minidom.parseString(xml_str)\n",
    "# Get the root element\n",
    "root = dom.documentElement\n",
    "\n",
    "# Iterate over the entry elements and create nodes and relationships\n",
    "entries = root.getElementsByTagName('entry')\n",
    "for entry in entries:\n",
    "    # Extract information from the entry\n",
    "    protein   = entry.getElementsByTagName('protein')[0]\n",
    "    gene      = entry.getElementsByTagName('gene')[0]\n",
    "    organism  = entry.getElementsByTagName('organism')[0]\n",
    "    reference = entry.getElementsByTagName('reference')[0]\n",
    "    \n",
    "    # Create nodes for the protein, gene, organism, and reference\n",
    "    protein_node   = Node('Protein', name=protein.getElementsByTagName('fullName')[0].firstChild.nodeValue)\n",
    "    gene_node      = Node('Gene', name=gene.getAttribute('name'))\n",
    "    organism_node  = Node('Organism', name=organism.getElementsByTagName('name')[0].firstChild.nodeValue)\n",
    "    reference_node = Node('Reference', key=reference.getAttribute('key'))\n",
    "    \n",
    "    # Create relationships between the nodes\n",
    "    protein_gene_rel      = Relationship(protein_node, 'IS_PART_OF_GENE', gene_node)\n",
    "    gene_organism_rel     = Relationship(gene_node, 'IS_PART_OF_ORGANISM', organism_node)\n",
    "    protein_reference_rel = Relationship(protein_node, 'IS_REFERENCED_BY', reference_node)\n",
    "    \n",
    "    # Add the nodes and relationships to the database\n",
    "    graph.create(protein_node)\n",
    "    graph.create(gene_node)\n",
    "    graph.create(organism_node)\n",
    "    graph.create(reference_node)\n",
    "    graph.create(protein_gene_rel)\n",
    "    graph.create(gene_organism_rel)\n",
    "    graph.create(protein_reference_rel)"
   ]
  },
  {
   "cell_type": "code",
   "execution_count": null,
   "metadata": {},
   "outputs": [],
   "source": []
  }
 ],
 "metadata": {
  "kernelspec": {
   "display_name": "tests",
   "language": "python",
   "name": "python3"
  },
  "language_info": {
   "codemirror_mode": {
    "name": "ipython",
    "version": 3
   },
   "file_extension": ".py",
   "mimetype": "text/x-python",
   "name": "python",
   "nbconvert_exporter": "python",
   "pygments_lexer": "ipython3",
   "version": "3.9.15"
  },
  "orig_nbformat": 4
 },
 "nbformat": 4,
 "nbformat_minor": 2
}
